{
  "cells": [
    {
      "cell_type": "markdown",
      "metadata": {
        "id": "view-in-github",
        "colab_type": "text"
      },
      "source": [
        "<a href=\"https://colab.research.google.com/github/AbhilashGaurav/Drwosiness_Detection/blob/main/INTERN_TASK_1.ipynb\" target=\"_parent\"><img src=\"https://colab.research.google.com/assets/colab-badge.svg\" alt=\"Open In Colab\"/></a>"
      ]
    },
    {
      "cell_type": "markdown",
      "source": [
        "### **Natural Language Understanding Trial Task 1**\n",
        "\n"
      ],
      "metadata": {
        "id": "tl3OY3b9Q-AM"
      }
    },
    {
      "cell_type": "markdown",
      "source": [
        "INSTALLING ALL THE LIBRARIES"
      ],
      "metadata": {
        "id": "CJ3Ivdo3SC9j"
      }
    },
    {
      "cell_type": "markdown",
      "source": [
        "Install request"
      ],
      "metadata": {
        "id": "l2w0_KUhSbNg"
      }
    },
    {
      "cell_type": "code",
      "execution_count": null,
      "metadata": {
        "id": "OnhnkPaK8ClP"
      },
      "outputs": [],
      "source": [
        "pip install requests "
      ]
    },
    {
      "cell_type": "markdown",
      "source": [
        "Install beautifulsoup4 for webscraping"
      ],
      "metadata": {
        "id": "-Fb2EO_hSffM"
      }
    },
    {
      "cell_type": "code",
      "execution_count": null,
      "metadata": {
        "id": "OfJasPE88bMf"
      },
      "outputs": [],
      "source": [
        "pip install beautifulsoup4"
      ]
    },
    {
      "cell_type": "code",
      "execution_count": null,
      "metadata": {
        "id": "-s6p_YZL9LpV"
      },
      "outputs": [],
      "source": [
        "pip install bs4"
      ]
    },
    {
      "cell_type": "markdown",
      "source": [
        "Install prettytable to beautify the table and to store the table"
      ],
      "metadata": {
        "id": "Ha8t3w-SSmgs"
      }
    },
    {
      "cell_type": "code",
      "source": [
        "pip install prettytable"
      ],
      "metadata": {
        "id": "mo3WyQCt5Hqp"
      },
      "execution_count": null,
      "outputs": []
    },
    {
      "cell_type": "markdown",
      "source": [
        "### **Extracting the data from the source**"
      ],
      "metadata": {
        "id": "Cb1o6qXNS90L"
      }
    },
    {
      "cell_type": "code",
      "execution_count": null,
      "metadata": {
        "id": "5uzbIt1F8q5t"
      },
      "outputs": [],
      "source": [
        "import requests\n",
        "from bs4 import BeautifulSoup\n",
        "\n",
        "URL = \"https://opentender.eu/start\"\n",
        "\n",
        "page = requests.get(URL)\n",
        "data = requests.get(URL).text\n",
        "# print(page.text)\n",
        "soup = BeautifulSoup(page.content, \"html.parser\")\n",
        "# initliased the soup variable \n",
        "# this will store the HTML PARSER content in text format and it can be used anywhere in the program\n"
      ]
    },
    {
      "cell_type": "markdown",
      "source": [
        "**Extract all the ul tag to get the country and number of Tenders**"
      ],
      "metadata": {
        "id": "P8KItrO0T04_"
      }
    },
    {
      "cell_type": "code",
      "execution_count": 83,
      "metadata": {
        "colab": {
          "base_uri": "https://localhost:8080/"
        },
        "id": "g0kvtEYamN6q",
        "outputId": "75faa770-3f7f-4053-d1a7-822708be6bb8"
      },
      "outputs": [
        {
          "output_type": "stream",
          "name": "stdout",
          "text": [
            "<li _ngcontent-c512=\"\" class=\"portal-link\">\n",
            "<!-- -->\n",
            "<!-- --><a _ngcontent-c512=\"\" href=\"/at?lang=en\">Austria</a>\n",
            "<div _ngcontent-c512=\"\">118,443</div>\n",
            "</li> \n",
            "   \n",
            "   <a _ngcontent-c512=\"\" href=\"/at?lang=en\">Austria</a> Austria \n",
            " <div _ngcontent-c512=\"\">118,443</div> 118,443 \n",
            " <li _ngcontent-c512=\"\" class=\"portal-link\">\n",
            "<!-- -->\n",
            "<!-- --><a _ngcontent-c512=\"\" href=\"/be?lang=en\">Belgium</a>\n",
            "<div _ngcontent-c512=\"\">102,578</div>\n",
            "</li> \n",
            "   \n",
            "   <a _ngcontent-c512=\"\" href=\"/be?lang=en\">Belgium</a> Belgium \n",
            " <div _ngcontent-c512=\"\">102,578</div> 102,578 \n",
            " <li _ngcontent-c512=\"\" class=\"portal-link\">\n",
            "<!-- -->\n",
            "<!-- --><a _ngcontent-c512=\"\" href=\"/bg?lang=en\">Bulgaria</a>\n",
            "<div _ngcontent-c512=\"\">182,284</div>\n",
            "</li> \n",
            "   \n",
            "   <a _ngcontent-c512=\"\" href=\"/bg?lang=en\">Bulgaria</a> Bulgaria \n",
            " <div _ngcontent-c512=\"\">182,284</div> 182,284 \n",
            " <li _ngcontent-c512=\"\" class=\"portal-link\">\n",
            "<!-- -->\n",
            "<!-- --><a _ngcontent-c512=\"\" href=\"/hr?lang=en\">Croatia</a>\n",
            "<div _ngcontent-c512=\"\">258,267</div>\n",
            "</li> \n",
            "   \n",
            "   <a _ngcontent-c512=\"\" href=\"/hr?lang=en\">Croatia</a> Croatia \n",
            " <div _ngcontent-c512=\"\">258,267</div> 258,267 \n",
            " <li _ngcontent-c512=\"\" class=\"portal-link\">\n",
            "<!-- -->\n",
            "<!-- --><a _ngcontent-c512=\"\" href=\"/cy?lang=en\">Cyprus</a>\n",
            "<div _ngcontent-c512=\"\">9,462</div>\n",
            "</li> \n",
            "   \n",
            "   <a _ngcontent-c512=\"\" href=\"/cy?lang=en\">Cyprus</a> Cyprus \n",
            " <div _ngcontent-c512=\"\">9,462</div> 9,462 \n",
            " <li _ngcontent-c512=\"\" class=\"portal-link\">\n",
            "<!-- -->\n",
            "<!-- --><a _ngcontent-c512=\"\" href=\"/cz?lang=en\">Czech Republic</a>\n",
            "<div _ngcontent-c512=\"\">271,831</div>\n",
            "</li> \n",
            "   \n",
            "   <a _ngcontent-c512=\"\" href=\"/cz?lang=en\">Czech Republic</a> Czech Republic \n",
            " <div _ngcontent-c512=\"\">271,831</div> 271,831 \n",
            " <li _ngcontent-c512=\"\" class=\"portal-link\">\n",
            "<!-- -->\n",
            "<!-- --><a _ngcontent-c512=\"\" href=\"/dk?lang=en\">Denmark</a>\n",
            "<div _ngcontent-c512=\"\">50,251</div>\n",
            "</li> \n",
            "   \n",
            "   <a _ngcontent-c512=\"\" href=\"/dk?lang=en\">Denmark</a> Denmark \n",
            " <div _ngcontent-c512=\"\">50,251</div> 50,251 \n",
            " <li _ngcontent-c512=\"\" class=\"portal-link\">\n",
            "<!-- -->\n",
            "<!-- --><a _ngcontent-c512=\"\" href=\"/ee?lang=en\">Estonia</a>\n",
            "<div _ngcontent-c512=\"\">113,802</div>\n",
            "</li> \n",
            "   \n",
            "   <a _ngcontent-c512=\"\" href=\"/ee?lang=en\">Estonia</a> Estonia \n",
            " <div _ngcontent-c512=\"\">113,802</div> 113,802 \n",
            " <li _ngcontent-c512=\"\" class=\"portal-link\">\n",
            "<!-- -->\n",
            "<!-- --><a _ngcontent-c512=\"\" href=\"/eu?lang=en\">EU Institutions</a>\n",
            "<div _ngcontent-c512=\"\">181,555</div>\n",
            "</li> \n",
            "   \n",
            "   <a _ngcontent-c512=\"\" href=\"/eu?lang=en\">EU Institutions</a> EU Institutions \n",
            " <div _ngcontent-c512=\"\">181,555</div> 181,555 \n",
            " <li _ngcontent-c512=\"\" class=\"portal-link\">\n",
            "<!-- -->\n",
            "<!-- --><a _ngcontent-c512=\"\" href=\"/fi?lang=en\">Finland</a>\n",
            "<div _ngcontent-c512=\"\">65,276</div>\n",
            "</li> \n",
            "   \n",
            "   <a _ngcontent-c512=\"\" href=\"/fi?lang=en\">Finland</a> Finland \n",
            " <div _ngcontent-c512=\"\">65,276</div> 65,276 \n",
            " <li _ngcontent-c512=\"\" class=\"portal-link\">\n",
            "<!-- -->\n",
            "<!-- --><a _ngcontent-c512=\"\" href=\"/fr?lang=en\">France</a>\n",
            "<div _ngcontent-c512=\"\">2.8 Million</div>\n",
            "</li> \n",
            "   \n",
            "   <a _ngcontent-c512=\"\" href=\"/fr?lang=en\">France</a> France \n",
            " <div _ngcontent-c512=\"\">2.8 Million</div> 2.8 Million \n",
            " <li _ngcontent-c512=\"\" class=\"portal-link\">\n",
            "<!-- -->\n",
            "<!-- --><a _ngcontent-c512=\"\" href=\"/ge?lang=en\">Georgia</a>\n",
            "<div _ngcontent-c512=\"\">359,062</div>\n",
            "</li> \n",
            "   \n",
            "   <a _ngcontent-c512=\"\" href=\"/ge?lang=en\">Georgia</a> Georgia \n",
            " <div _ngcontent-c512=\"\">359,062</div> 359,062 \n",
            " <li _ngcontent-c512=\"\" class=\"portal-link\">\n",
            "<!-- -->\n",
            "<!-- --><a _ngcontent-c512=\"\" href=\"/de?lang=en\">Germany</a>\n",
            "<div _ngcontent-c512=\"\">537,694</div>\n",
            "</li> \n",
            "   \n",
            "   <a _ngcontent-c512=\"\" href=\"/de?lang=en\">Germany</a> Germany \n",
            " <div _ngcontent-c512=\"\">537,694</div> 537,694 \n",
            " <li _ngcontent-c512=\"\" class=\"portal-link\">\n",
            "<!-- -->\n",
            "<!-- --><a _ngcontent-c512=\"\" href=\"/gr?lang=en\">Greece</a>\n",
            "<div _ngcontent-c512=\"\">61,360</div>\n",
            "</li> \n",
            "   \n",
            "   <a _ngcontent-c512=\"\" href=\"/gr?lang=en\">Greece</a> Greece \n",
            " <div _ngcontent-c512=\"\">61,360</div> 61,360 \n",
            " <li _ngcontent-c512=\"\" class=\"portal-link\">\n",
            "<!-- -->\n",
            "<!-- --><a _ngcontent-c512=\"\" href=\"/hu?lang=en\">Hungary</a>\n",
            "<div _ngcontent-c512=\"\">196,028</div>\n",
            "</li> \n",
            "   \n",
            "   <a _ngcontent-c512=\"\" href=\"/hu?lang=en\">Hungary</a> Hungary \n",
            " <div _ngcontent-c512=\"\">196,028</div> 196,028 \n",
            " <li _ngcontent-c512=\"\" class=\"portal-link\">\n",
            "<!-- -->\n",
            "<!-- --><a _ngcontent-c512=\"\" href=\"/is?lang=en\">Iceland</a>\n",
            "<div _ngcontent-c512=\"\">2,911</div>\n",
            "</li> \n",
            "   \n",
            "   <a _ngcontent-c512=\"\" href=\"/is?lang=en\">Iceland</a> Iceland \n",
            " <div _ngcontent-c512=\"\">2,911</div> 2,911 \n",
            " <li _ngcontent-c512=\"\" class=\"portal-link\">\n",
            "<!-- -->\n",
            "<!-- --><a _ngcontent-c512=\"\" href=\"/ie?lang=en\">Ireland</a>\n",
            "<div _ngcontent-c512=\"\">134,814</div>\n",
            "</li> \n",
            "   \n",
            "   <a _ngcontent-c512=\"\" href=\"/ie?lang=en\">Ireland</a> Ireland \n",
            " <div _ngcontent-c512=\"\">134,814</div> 134,814 \n",
            " <li _ngcontent-c512=\"\" class=\"portal-link\">\n",
            "<!-- -->\n",
            "<!-- --><a _ngcontent-c512=\"\" href=\"/it?lang=en\">Italy</a>\n",
            "<div _ngcontent-c512=\"\">14.0 Million</div>\n",
            "</li> \n",
            "   \n",
            "   <a _ngcontent-c512=\"\" href=\"/it?lang=en\">Italy</a> Italy \n",
            " <div _ngcontent-c512=\"\">14.0 Million</div> 14.0 Million \n",
            " <li _ngcontent-c512=\"\" class=\"portal-link\">\n",
            "<!-- -->\n",
            "<!-- --><a _ngcontent-c512=\"\" href=\"/lv?lang=en\">Latvia</a>\n",
            "<div _ngcontent-c512=\"\">150,619</div>\n",
            "</li> \n",
            "   \n",
            "   <a _ngcontent-c512=\"\" href=\"/lv?lang=en\">Latvia</a> Latvia \n",
            " <div _ngcontent-c512=\"\">150,619</div> 150,619 \n",
            " <li _ngcontent-c512=\"\" class=\"portal-link\">\n",
            "<!-- -->\n",
            "<!-- --><a _ngcontent-c512=\"\" href=\"/lt?lang=en\">Lithuania</a>\n",
            "<div _ngcontent-c512=\"\">192,941</div>\n",
            "</li> \n",
            "   \n",
            "   <a _ngcontent-c512=\"\" href=\"/lt?lang=en\">Lithuania</a> Lithuania \n",
            " <div _ngcontent-c512=\"\">192,941</div> 192,941 \n",
            " <li _ngcontent-c512=\"\" class=\"portal-link\">\n",
            "<!-- -->\n",
            "<!-- --><a _ngcontent-c512=\"\" href=\"/lu?lang=en\">Luxembourg</a>\n",
            "<div _ngcontent-c512=\"\">9,219</div>\n",
            "</li> \n",
            "   \n",
            "   <a _ngcontent-c512=\"\" href=\"/lu?lang=en\">Luxembourg</a> Luxembourg \n",
            " <div _ngcontent-c512=\"\">9,219</div> 9,219 \n",
            " <li _ngcontent-c512=\"\" class=\"portal-link\">\n",
            "<!-- -->\n",
            "<!-- --><a _ngcontent-c512=\"\" href=\"/mt?lang=en\">Malta</a>\n",
            "<div _ngcontent-c512=\"\">8,384</div>\n",
            "</li> \n",
            "   \n",
            "   <a _ngcontent-c512=\"\" href=\"/mt?lang=en\">Malta</a> Malta \n",
            " <div _ngcontent-c512=\"\">8,384</div> 8,384 \n",
            " <li _ngcontent-c512=\"\" class=\"portal-link\">\n",
            "<!-- -->\n",
            "<!-- --><a _ngcontent-c512=\"\" href=\"/nl?lang=en\">Netherlands</a>\n",
            "<div _ngcontent-c512=\"\">128,042</div>\n",
            "</li> \n",
            "   \n",
            "   <a _ngcontent-c512=\"\" href=\"/nl?lang=en\">Netherlands</a> Netherlands \n",
            " <div _ngcontent-c512=\"\">128,042</div> 128,042 \n",
            " <li _ngcontent-c512=\"\" class=\"portal-link\">\n",
            "<!-- -->\n",
            "<!-- --><a _ngcontent-c512=\"\" href=\"/no?lang=en\">Norway</a>\n",
            "<div _ngcontent-c512=\"\">267,710</div>\n",
            "</li> \n",
            "   \n",
            "   <a _ngcontent-c512=\"\" href=\"/no?lang=en\">Norway</a> Norway \n",
            " <div _ngcontent-c512=\"\">267,710</div> 267,710 \n",
            " <li _ngcontent-c512=\"\" class=\"portal-link\">\n",
            "<!-- -->\n",
            "<!-- --><a _ngcontent-c512=\"\" href=\"/pl?lang=en\">Poland</a>\n",
            "<div _ngcontent-c512=\"\">2.9 Million</div>\n",
            "</li> \n",
            "   \n",
            "   <a _ngcontent-c512=\"\" href=\"/pl?lang=en\">Poland</a> Poland \n",
            " <div _ngcontent-c512=\"\">2.9 Million</div> 2.9 Million \n",
            " <li _ngcontent-c512=\"\" class=\"portal-link\">\n",
            "<!-- -->\n",
            "<!-- --><a _ngcontent-c512=\"\" href=\"/pt?lang=en\">Portugal</a>\n",
            "<div _ngcontent-c512=\"\">1.4 Million</div>\n",
            "</li> \n",
            "   \n",
            "   <a _ngcontent-c512=\"\" href=\"/pt?lang=en\">Portugal</a> Portugal \n",
            " <div _ngcontent-c512=\"\">1.4 Million</div> 1.4 Million \n",
            " <li _ngcontent-c512=\"\" class=\"portal-link\">\n",
            "<!-- -->\n",
            "<!-- --><a _ngcontent-c512=\"\" href=\"/ro?lang=en\">Romania</a>\n",
            "<div _ngcontent-c512=\"\">20.5 Million</div>\n",
            "</li> \n",
            "   \n",
            "   <a _ngcontent-c512=\"\" href=\"/ro?lang=en\">Romania</a> Romania \n",
            " <div _ngcontent-c512=\"\">20.5 Million</div> 20.5 Million \n",
            " <li _ngcontent-c512=\"\" class=\"portal-link\">\n",
            "<!-- -->\n",
            "<!-- --><a _ngcontent-c512=\"\" href=\"/sk?lang=en\">Slovakia</a>\n",
            "<div _ngcontent-c512=\"\">456,309</div>\n",
            "</li> \n",
            "   \n",
            "   <a _ngcontent-c512=\"\" href=\"/sk?lang=en\">Slovakia</a> Slovakia \n",
            " <div _ngcontent-c512=\"\">456,309</div> 456,309 \n",
            " <li _ngcontent-c512=\"\" class=\"portal-link\">\n",
            "<!-- -->\n",
            "<!-- --><a _ngcontent-c512=\"\" href=\"/si?lang=en\">Slovenia</a>\n",
            "<div _ngcontent-c512=\"\">136,760</div>\n",
            "</li> \n",
            "   \n",
            "   <a _ngcontent-c512=\"\" href=\"/si?lang=en\">Slovenia</a> Slovenia \n",
            " <div _ngcontent-c512=\"\">136,760</div> 136,760 \n",
            " <li _ngcontent-c512=\"\" class=\"portal-link\">\n",
            "<!-- -->\n",
            "<!-- --><a _ngcontent-c512=\"\" href=\"/es?lang=en\">Spain</a>\n",
            "<div _ngcontent-c512=\"\">1.9 Million</div>\n",
            "</li> \n",
            "   \n",
            "   <a _ngcontent-c512=\"\" href=\"/es?lang=en\">Spain</a> Spain \n",
            " <div _ngcontent-c512=\"\">1.9 Million</div> 1.9 Million \n",
            " <li _ngcontent-c512=\"\" class=\"portal-link\">\n",
            "<!-- -->\n",
            "<!-- --><a _ngcontent-c512=\"\" href=\"/se?lang=en\">Sweden</a>\n",
            "<div _ngcontent-c512=\"\">126,084</div>\n",
            "</li> \n",
            "   \n",
            "   <a _ngcontent-c512=\"\" href=\"/se?lang=en\">Sweden</a> Sweden \n",
            " <div _ngcontent-c512=\"\">126,084</div> 126,084 \n",
            " <li _ngcontent-c512=\"\" class=\"portal-link\">\n",
            "<!-- -->\n",
            "<!-- --><a _ngcontent-c512=\"\" href=\"/ch?lang=en\">Switzerland</a>\n",
            "<div _ngcontent-c512=\"\">116,322</div>\n",
            "</li> \n",
            "   \n",
            "   <a _ngcontent-c512=\"\" href=\"/ch?lang=en\">Switzerland</a> Switzerland \n",
            " <div _ngcontent-c512=\"\">116,322</div> 116,322 \n",
            " <li _ngcontent-c512=\"\" class=\"portal-link\">\n",
            "<!-- -->\n",
            "<!-- --><a _ngcontent-c512=\"\" href=\"/uk?lang=en\">United Kingdom</a>\n",
            "<div _ngcontent-c512=\"\">494,392</div>\n",
            "</li> \n",
            "   \n",
            "   <a _ngcontent-c512=\"\" href=\"/uk?lang=en\">United Kingdom</a> United Kingdom \n",
            " <div _ngcontent-c512=\"\">494,392</div> 494,392 \n",
            " \n",
            " "
          ]
        }
      ],
      "source": [
        "# importing the modules\n",
        "import requests\n",
        "from bs4 import BeautifulSoup\n",
        "\n",
        "url = \"https://opentender.eu/start\"\n",
        "\n",
        "# creating requests object\n",
        "html = requests.get(url).content\n",
        "\n",
        "# creating soup object\n",
        "data = BeautifulSoup(html, 'html.parser')\n",
        "\n",
        "# finding parent <ul> tag\n",
        "parent = data.find(\"body\").find(\"ul\")\n",
        "\n",
        "# finding all <li> tags\n",
        "text = list(parent.descendants)\n",
        "\n",
        "# printing the content in <li> tag\n",
        "# print(text)\n",
        "for i in range(2, len(text)):\n",
        "\tprint(text[i], end=\" \")\n"
      ]
    },
    {
      "cell_type": "markdown",
      "source": [
        "### **DATA VISUALISATION**"
      ],
      "metadata": {
        "id": "FtMe3d7QUI7B"
      }
    },
    {
      "cell_type": "markdown",
      "source": [
        "**TABLE IMPLEMENTATION**"
      ],
      "metadata": {
        "id": "vzbBAcRcViW7"
      }
    },
    {
      "cell_type": "code",
      "execution_count": 26,
      "metadata": {
        "colab": {
          "base_uri": "https://localhost:8080/"
        },
        "id": "xHxVnkLtmixC",
        "outputId": "4d86e2d6-c5e9-4780-ca94-b6c4f7f3c128"
      },
      "outputs": [
        {
          "output_type": "stream",
          "name": "stdout",
          "text": [
            "+-----------------+----------------+\n",
            "|     Country     | Nr. of Tenders |\n",
            "+-----------------+----------------+\n",
            "|     Austria     |    118,443     |\n",
            "|     Belgium     |    102,578     |\n",
            "|     Bulgaria    |    182,284     |\n",
            "|     Croatia     |    258,267     |\n",
            "|      Cyprus     |     9,462      |\n",
            "|  Czech Republic |    271,831     |\n",
            "|     Denmark     |     50,251     |\n",
            "|     Estonia     |    113,802     |\n",
            "| EU Institutions |    181,555     |\n",
            "|     Finland     |     65,276     |\n",
            "|      France     |  2.8 Million   |\n",
            "|     Georgia     |    359,062     |\n",
            "|     Germany     |    537,694     |\n",
            "|      Greece     |     61,360     |\n",
            "|     Hungary     |    196,028     |\n",
            "|     Iceland     |     2,911      |\n",
            "|     Ireland     |    134,814     |\n",
            "|      Italy      |  14.0 Million  |\n",
            "|      Latvia     |    150,619     |\n",
            "|    Lithuania    |    192,941     |\n",
            "|    Luxembourg   |     9,219      |\n",
            "|      Malta      |     8,384      |\n",
            "|   Netherlands   |    128,042     |\n",
            "|      Norway     |    267,710     |\n",
            "|      Poland     |  2.9 Million   |\n",
            "|     Portugal    |  1.4 Million   |\n",
            "|     Romania     |  20.5 Million  |\n",
            "|     Slovakia    |    456,309     |\n",
            "|     Slovenia    |    136,760     |\n",
            "|      Spain      |  1.9 Million   |\n",
            "|      Sweden     |    126,084     |\n",
            "|   Switzerland   |    116,322     |\n",
            "|  United Kingdom |    494,392     |\n",
            "+-----------------+----------------+\n"
          ]
        }
      ],
      "source": [
        "# working one in python\n",
        "\n",
        "# importing the modules\n",
        "from prettytable import PrettyTable\n",
        "import requests\n",
        "from bs4 import BeautifulSoup\n",
        "\n",
        "# providing url\n",
        "url = 'https://opentender.eu/start'\n",
        "\n",
        "# creating request object\n",
        "req = requests.get(url)\n",
        "\n",
        "# creating soup object\n",
        "data = BeautifulSoup(req.text, 'html')\n",
        "\n",
        "# finding all li tags in ul and printing the text within it\n",
        "data1 = data.find('ul')\n",
        "myTable = PrettyTable([\"Country\", \"Nr. of Tenders\"])\n",
        "for li in data1.find_all(\"li\"):\n",
        "  data=list(li.text.strip().split(\"\\n\"));\n",
        "  myTable.add_row([str(data[0]),str(data[1])])\n",
        "print(myTable)\n",
        "\t"
      ]
    },
    {
      "cell_type": "markdown",
      "source": [
        "**LINK EXTRACTION**"
      ],
      "metadata": {
        "id": "1-xTN2hRVXiz"
      }
    },
    {
      "cell_type": "code",
      "source": [
        "import requests\n",
        "from bs4 import BeautifulSoup as bs\n",
        "\n",
        "#add user input for website to start with \n",
        "url = requests.get('https://opentender.eu/start/') # stored in requests var\n",
        "\n",
        "# configuring Beautifulsoup\n",
        "content = url.content\n",
        "soup = bs(content, 'html.parser')\n",
        "\n",
        "# open var to store data found\n",
        "links = []\n",
        "\n",
        "# loop looking for href tags with text embeded\n",
        "for a in soup.find_all('a', href=True):\n",
        "    if a.text:\n",
        "        links.append(a['href'])\n",
        "# informational prints\n",
        "print(\"All links in the webpage \",links[5:])"
      ],
      "metadata": {
        "colab": {
          "base_uri": "https://localhost:8080/"
        },
        "id": "0R1965gULUvW",
        "outputId": "de2df517-65b8-41fe-a7e9-7234f3526589"
      },
      "execution_count": 68,
      "outputs": [
        {
          "output_type": "stream",
          "name": "stdout",
          "text": [
            "All links in the webpage  ['/at?lang=en', '/be?lang=en', '/bg?lang=en', '/hr?lang=en', '/cy?lang=en', '/cz?lang=en', '/dk?lang=en', '/ee?lang=en', '/eu?lang=en', '/fi?lang=en', '/fr?lang=en', '/ge?lang=en', '/de?lang=en', '/gr?lang=en', '/hu?lang=en', '/is?lang=en', '/ie?lang=en', '/it?lang=en', '/lv?lang=en', '/lt?lang=en', '/lu?lang=en', '/mt?lang=en', '/nl?lang=en', '/no?lang=en', '/pl?lang=en', '/pt?lang=en', '/ro?lang=en', '/sk?lang=en', '/si?lang=en', '/es?lang=en', '/se?lang=en', '/ch?lang=en', '/uk?lang=en', '/start?lang=en', '/download', '/download', '/imprint', '/imprint', '/imprint', '/imprint', 'mailto:info@govtransparency.eu', 'https://github.com/digiwhist', 'https://github.com/digiwhist/opentender-frontend/issues', 'http://europam.eu/', 'https://twitter.com/digiwhist', 'https://opentender.us12.list-manage.com/subscribe/post?u=961461fc5e4bda742e2ffb764&id=896595d352', '/start?lang=bg', '/start?lang=cs', '/start?lang=da', '/start?lang=de', '/start?lang=el', '/start?lang=es', '/start?lang=et', '/start?lang=fi', '/start?lang=fr', '/start?lang=hr', '/start?lang=hu', '/start?lang=ka', '/start?lang=it', '/start?lang=lt', '/start?lang=lv', '/start?lang=nl', '/start?lang=no', '/start?lang=pl', '/start?lang=pt', '/start?lang=ro', '/start?lang=sk', '/start?lang=sl', '/start?lang=sv', 'https://ec.europa.eu/programmes/horizon2020/', 'https://cordis.europa.eu/project/rcn/194398_en.html']\n"
          ]
        }
      ]
    },
    {
      "cell_type": "markdown",
      "source": [
        "# **Data plotting from opentender**\n",
        "\n",
        "\n"
      ],
      "metadata": {
        "id": "nyaCSZdQ6gRI"
      }
    },
    {
      "cell_type": "code",
      "source": [
        "import requests as req\n",
        "import os, bs4\n",
        "from prettytable import PrettyTable\n",
        "# call from the above links code block\n",
        "url = 'https://opentender.eu/start'\n",
        "urli= 'https://opentender.eu'\n",
        "# creating request object\n",
        "req = requests.get(url)\n",
        "\n",
        "# creating soup object\n",
        "data = BeautifulSoup(req.text, 'html')\n",
        "\n",
        "# finding all li tags in ul and printing the text within it\n",
        "data1 = data.find('ul')\n",
        "myTable = PrettyTable([\"Country\", \"Country Data Link\"])\n",
        "i=5\n",
        "for li in data1.find_all(\"li\"):\n",
        "  data=list(li.text.strip().split(\"\\n\"));\n",
        "  myTable.add_row([str(data[0]),str(urli)+str(links[i])+'/'])\n",
        "  i+=1\n",
        "print(myTable)\n",
        "# click on the below links to get the detailed visualisation of data\n"
      ],
      "metadata": {
        "colab": {
          "base_uri": "https://localhost:8080/"
        },
        "id": "ovB0FWN-6syW",
        "outputId": "e667878b-0ffd-44ad-b8f1-846d0268e660"
      },
      "execution_count": 81,
      "outputs": [
        {
          "output_type": "stream",
          "name": "stdout",
          "text": [
            "+-----------------+-----------------------------------+\n",
            "|     Country     |         Country Data Link         |\n",
            "+-----------------+-----------------------------------+\n",
            "|     Austria     | https://opentender.eu/at?lang=en/ |\n",
            "|     Belgium     | https://opentender.eu/be?lang=en/ |\n",
            "|     Bulgaria    | https://opentender.eu/bg?lang=en/ |\n",
            "|     Croatia     | https://opentender.eu/hr?lang=en/ |\n",
            "|      Cyprus     | https://opentender.eu/cy?lang=en/ |\n",
            "|  Czech Republic | https://opentender.eu/cz?lang=en/ |\n",
            "|     Denmark     | https://opentender.eu/dk?lang=en/ |\n",
            "|     Estonia     | https://opentender.eu/ee?lang=en/ |\n",
            "| EU Institutions | https://opentender.eu/eu?lang=en/ |\n",
            "|     Finland     | https://opentender.eu/fi?lang=en/ |\n",
            "|      France     | https://opentender.eu/fr?lang=en/ |\n",
            "|     Georgia     | https://opentender.eu/ge?lang=en/ |\n",
            "|     Germany     | https://opentender.eu/de?lang=en/ |\n",
            "|      Greece     | https://opentender.eu/gr?lang=en/ |\n",
            "|     Hungary     | https://opentender.eu/hu?lang=en/ |\n",
            "|     Iceland     | https://opentender.eu/is?lang=en/ |\n",
            "|     Ireland     | https://opentender.eu/ie?lang=en/ |\n",
            "|      Italy      | https://opentender.eu/it?lang=en/ |\n",
            "|      Latvia     | https://opentender.eu/lv?lang=en/ |\n",
            "|    Lithuania    | https://opentender.eu/lt?lang=en/ |\n",
            "|    Luxembourg   | https://opentender.eu/lu?lang=en/ |\n",
            "|      Malta      | https://opentender.eu/mt?lang=en/ |\n",
            "|   Netherlands   | https://opentender.eu/nl?lang=en/ |\n",
            "|      Norway     | https://opentender.eu/no?lang=en/ |\n",
            "|      Poland     | https://opentender.eu/pl?lang=en/ |\n",
            "|     Portugal    | https://opentender.eu/pt?lang=en/ |\n",
            "|     Romania     | https://opentender.eu/ro?lang=en/ |\n",
            "|     Slovakia    | https://opentender.eu/sk?lang=en/ |\n",
            "|     Slovenia    | https://opentender.eu/si?lang=en/ |\n",
            "|      Spain      | https://opentender.eu/es?lang=en/ |\n",
            "|      Sweden     | https://opentender.eu/se?lang=en/ |\n",
            "|   Switzerland   | https://opentender.eu/ch?lang=en/ |\n",
            "|  United Kingdom | https://opentender.eu/uk?lang=en/ |\n",
            "+-----------------+-----------------------------------+\n"
          ]
        }
      ]
    }
  ],
  "metadata": {
    "colab": {
      "collapsed_sections": [],
      "provenance": [],
      "authorship_tag": "ABX9TyMtxUYQwj697LW0v8TIvFea",
      "include_colab_link": true
    },
    "kernelspec": {
      "display_name": "Python 3",
      "name": "python3"
    },
    "language_info": {
      "name": "python"
    }
  },
  "nbformat": 4,
  "nbformat_minor": 0
}