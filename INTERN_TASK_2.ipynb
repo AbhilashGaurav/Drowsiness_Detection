{
  "nbformat": 4,
  "nbformat_minor": 0,
  "metadata": {
    "colab": {
      "provenance": [],
      "authorship_tag": "ABX9TyOI5tfySCujtQFSoYF5nVK7",
      "include_colab_link": true
    },
    "kernelspec": {
      "name": "python3",
      "display_name": "Python 3"
    },
    "language_info": {
      "name": "python"
    }
  },
  "cells": [
    {
      "cell_type": "markdown",
      "metadata": {
        "id": "view-in-github",
        "colab_type": "text"
      },
      "source": [
        "<a href=\"https://colab.research.google.com/github/AbhilashGaurav/Drwosiness_Detection/blob/main/INTERN_TASK_2.ipynb\" target=\"_parent\"><img src=\"https://colab.research.google.com/assets/colab-badge.svg\" alt=\"Open In Colab\"/></a>"
      ]
    },
    {
      "cell_type": "markdown",
      "source": [
        "COPYRIGHT@ ABHILASH GAURAV"
      ],
      "metadata": {
        "id": "N5y8mCG6YS1V"
      }
    },
    {
      "cell_type": "markdown",
      "source": [
        "### **Modeling and Report TASK 2**"
      ],
      "metadata": {
        "id": "BB8SSUuAYXOF"
      }
    },
    {
      "cell_type": "markdown",
      "source": [
        "**INSTALLING ALL THE LIBRARIES**"
      ],
      "metadata": {
        "id": "jOokOWQzYjbW"
      }
    },
    {
      "cell_type": "code",
      "source": [
        "pip install requests\n"
      ],
      "metadata": {
        "colab": {
          "base_uri": "https://localhost:8080/"
        },
        "id": "gf02GStpYW3E",
        "outputId": "2b5d93c0-8df6-46f8-ab0c-29a9398308a6"
      },
      "execution_count": 2,
      "outputs": [
        {
          "output_type": "stream",
          "name": "stdout",
          "text": [
            "Looking in indexes: https://pypi.org/simple, https://us-python.pkg.dev/colab-wheels/public/simple/\n",
            "Requirement already satisfied: requests in /usr/local/lib/python3.7/dist-packages (2.23.0)\n",
            "Requirement already satisfied: urllib3!=1.25.0,!=1.25.1,<1.26,>=1.21.1 in /usr/local/lib/python3.7/dist-packages (from requests) (1.24.3)\n",
            "Requirement already satisfied: idna<3,>=2.5 in /usr/local/lib/python3.7/dist-packages (from requests) (2.10)\n",
            "Requirement already satisfied: chardet<4,>=3.0.2 in /usr/local/lib/python3.7/dist-packages (from requests) (3.0.4)\n",
            "Requirement already satisfied: certifi>=2017.4.17 in /usr/local/lib/python3.7/dist-packages (from requests) (2022.6.15)\n"
          ]
        }
      ]
    },
    {
      "cell_type": "code",
      "source": [
        "pip install beautifulsoup4\n"
      ],
      "metadata": {
        "colab": {
          "base_uri": "https://localhost:8080/"
        },
        "id": "7OGiR6ueYy9s",
        "outputId": "745ee292-e79c-4c8d-dc44-c880c4be0339"
      },
      "execution_count": 3,
      "outputs": [
        {
          "output_type": "stream",
          "name": "stdout",
          "text": [
            "Looking in indexes: https://pypi.org/simple, https://us-python.pkg.dev/colab-wheels/public/simple/\n",
            "Requirement already satisfied: beautifulsoup4 in /usr/local/lib/python3.7/dist-packages (4.6.3)\n"
          ]
        }
      ]
    },
    {
      "cell_type": "code",
      "source": [
        "pip install bs4\n"
      ],
      "metadata": {
        "colab": {
          "base_uri": "https://localhost:8080/"
        },
        "id": "ZH_PCxpTY0qu",
        "outputId": "92af3c44-df38-47eb-d93d-9036e631a5d4"
      },
      "execution_count": 4,
      "outputs": [
        {
          "output_type": "stream",
          "name": "stdout",
          "text": [
            "Looking in indexes: https://pypi.org/simple, https://us-python.pkg.dev/colab-wheels/public/simple/\n",
            "Requirement already satisfied: bs4 in /usr/local/lib/python3.7/dist-packages (0.0.1)\n",
            "Requirement already satisfied: beautifulsoup4 in /usr/local/lib/python3.7/dist-packages (from bs4) (4.6.3)\n"
          ]
        }
      ]
    },
    {
      "cell_type": "code",
      "source": [
        "pip install prettytable"
      ],
      "metadata": {
        "colab": {
          "base_uri": "https://localhost:8080/"
        },
        "id": "riX-hkaFY2hc",
        "outputId": "2970bceb-72a8-4bbb-b5b2-60ae4564e468"
      },
      "execution_count": 5,
      "outputs": [
        {
          "output_type": "stream",
          "name": "stdout",
          "text": [
            "Looking in indexes: https://pypi.org/simple, https://us-python.pkg.dev/colab-wheels/public/simple/\n",
            "Requirement already satisfied: prettytable in /usr/local/lib/python3.7/dist-packages (3.4.1)\n",
            "Requirement already satisfied: wcwidth in /usr/local/lib/python3.7/dist-packages (from prettytable) (0.2.5)\n",
            "Requirement already satisfied: importlib-metadata in /usr/local/lib/python3.7/dist-packages (from prettytable) (4.12.0)\n",
            "Requirement already satisfied: zipp>=0.5 in /usr/local/lib/python3.7/dist-packages (from importlib-metadata->prettytable) (3.8.1)\n",
            "Requirement already satisfied: typing-extensions>=3.6.4 in /usr/local/lib/python3.7/dist-packages (from importlib-metadata->prettytable) (4.1.1)\n"
          ]
        }
      ]
    },
    {
      "cell_type": "markdown",
      "source": [
        "**Query For the data**"
      ],
      "metadata": {
        "id": "EPt88Zjxe9JN"
      }
    },
    {
      "cell_type": "code",
      "source": [
        "# working one in python\n",
        "\n",
        "# importing the modules\n",
        "# from prettytable import PrettyTable\n",
        "import requests\n",
        "from bs4 import BeautifulSoup\n",
        "\n",
        "# providing url\n",
        "url = 'https://opentender.eu/start'\n",
        "\n",
        "# creating request object\n",
        "req = requests.get(url)\n",
        "\n",
        "# creating soup object\n",
        "data = BeautifulSoup(req.text, 'html')\n",
        "\n",
        "data1 = data.find('ul')\n",
        "\n",
        "query_dict={}\n",
        "for li in data1.find_all(\"li\"):\n",
        "  query=list(li.text.strip().split(\"\\n\"));\n",
        "  query_data={str(query[0]):str(query[1])};\n",
        "  query_dict.update(query_data)\n",
        "apply_query= input(\"Which countries trends number you want to search \")\n",
        "print(\"The number of Tenders in \"+str(apply_query) +\" are \"+ query_dict[apply_query])\n",
        "\n"
      ],
      "metadata": {
        "colab": {
          "base_uri": "https://localhost:8080/"
        },
        "id": "oT-y4IsJY5Ds",
        "outputId": "5235fcd5-3a87-4fb0-9f94-1439cf279127"
      },
      "execution_count": 8,
      "outputs": [
        {
          "output_type": "stream",
          "name": "stdout",
          "text": [
            "Which countries trends number you want to search Austria\n",
            "The number of Tenders in Austria are 118,443\n"
          ]
        }
      ]
    },
    {
      "cell_type": "markdown",
      "source": [
        "**Link Query solution for the data**"
      ],
      "metadata": {
        "id": "YUuuN6nHggBa"
      }
    },
    {
      "cell_type": "code",
      "source": [
        "import requests\n",
        "from bs4 import BeautifulSoup as bs\n",
        "#add user input for website to start with \n",
        "url = requests.get('https://opentender.eu/start/') # stored in requests var\n",
        "# configuring Beautifulsoup\n",
        "content = url.content\n",
        "soup = bs(content, 'html.parser')\n",
        "# open var to store data found\n",
        "links = []\n",
        "# loop looking for href tags with text embeded\n",
        "for a in soup.find_all('a', href=True):\n",
        "    if a.text:\n",
        "        links.append(a['href'])"
      ],
      "metadata": {
        "id": "ODBKzDckcpJx"
      },
      "execution_count": 12,
      "outputs": []
    },
    {
      "cell_type": "code",
      "source": [
        "import requests as req\n",
        "import os, bs4\n",
        "# call from the above links code block\n",
        "url = 'https://opentender.eu/start'\n",
        "urli= 'https://opentender.eu'\n",
        "# creating request object\n",
        "req = requests.get(url)\n",
        "data = BeautifulSoup(req.text, 'html')\n",
        "# finding all li tags in ul and printing the text within it\n",
        "data1 = data.find('ul')\n",
        "i=5\n",
        "plot_data={}\n",
        "for li in data1.find_all(\"li\"):\n",
        "  data=list(li.text.strip().split(\"\\n\"));\n",
        "  link_data={str(data[0]):str(urli)+str(links[i])+'/'}\n",
        "  plot_data.update(link_data)\n",
        "  i+=1\n",
        "link_query=input(\"Which country Data you want to see \")\n",
        "print(\"Click on the link to see \"+link_query+\" data: \"+plot_data[link_query])\n"
      ],
      "metadata": {
        "colab": {
          "base_uri": "https://localhost:8080/"
        },
        "id": "t2hbEPorbpdO",
        "outputId": "08a85d12-66b3-40a4-dafd-071244799fd7"
      },
      "execution_count": 14,
      "outputs": [
        {
          "output_type": "stream",
          "name": "stdout",
          "text": [
            "Which country Data you want to seeAustria\n",
            "Click on the link to see Austria data: https://opentender.eu/at?lang=en/\n"
          ]
        }
      ]
    }
  ]
}